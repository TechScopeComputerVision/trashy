{
 "cells": [
  {
   "cell_type": "code",
   "execution_count": 1,
   "id": "475980e8",
   "metadata": {},
   "outputs": [],
   "source": [
    "from ultralytics import YOLO\n",
    "\n",
    "model = YOLO(r'C:\\Users\\ronen\\trashy\\runs\\detect\\train2\\weights\\best.pt')"
   ]
  },
  {
   "cell_type": "code",
   "execution_count": 14,
   "id": "a3ab6cf1",
   "metadata": {},
   "outputs": [
    {
     "name": "stdout",
     "output_type": "stream",
     "text": [
      "\n",
      "image 1/1 C:\\Users\\ronen\\Downloads\\trash-can-9.webp: 64x64 6 trashs, 12.1ms\n",
      "Speed: 1.5ms preprocess, 12.1ms inference, 1.1ms postprocess per image at shape (1, 3, 64, 64)\n"
     ]
    },
    {
     "data": {
      "text/plain": [
       "'output.png'"
      ]
     },
     "execution_count": 14,
     "metadata": {},
     "output_type": "execute_result"
    }
   ],
   "source": [
    "results = model(r\"C:\\Users\\ronen\\Downloads\\trash-can-9.webp\")\n",
    "results[0].save('output.png')"
   ]
  },
  {
   "cell_type": "code",
   "execution_count": null,
   "id": "96510186",
   "metadata": {},
   "outputs": [],
   "source": []
  }
 ],
 "metadata": {
  "kernelspec": {
   "display_name": "Python 3",
   "language": "python",
   "name": "python3"
  },
  "language_info": {
   "codemirror_mode": {
    "name": "ipython",
    "version": 3
   },
   "file_extension": ".py",
   "mimetype": "text/x-python",
   "name": "python",
   "nbconvert_exporter": "python",
   "pygments_lexer": "ipython3",
   "version": "3.13.0"
  }
 },
 "nbformat": 4,
 "nbformat_minor": 5
}
